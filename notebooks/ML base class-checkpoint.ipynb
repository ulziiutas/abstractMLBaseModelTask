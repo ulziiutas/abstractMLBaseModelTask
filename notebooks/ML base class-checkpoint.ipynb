{
 "cells": [
  {
   "cell_type": "code",
   "execution_count": null,
   "metadata": {},
   "outputs": [],
   "source": [
    "import tensorflow as tf\n",
    "import numpy as np\n",
    "import matplotlib\n",
    "import matplotlib.pyplot as plt\n",
    "import seaborn as sns; sns.set_theme()"
   ]
  },
  {
   "cell_type": "code",
   "execution_count": 24,
   "metadata": {},
   "outputs": [],
   "source": [
    "from sklearn.decomposition import PCA"
   ]
  },
  {
   "cell_type": "code",
   "execution_count": 51,
   "metadata": {},
   "outputs": [],
   "source": [
    "import pandas as pd"
   ]
  },
  {
   "cell_type": "markdown",
   "metadata": {},
   "source": [
    "# Task 1."
   ]
  },
  {
   "cell_type": "markdown",
   "metadata": {},
   "source": [
    "Here is simple machine learning abstract base model that has constructor __init__, train, and predict functions."
   ]
  },
  {
   "cell_type": "code",
   "execution_count": 1,
   "metadata": {},
   "outputs": [],
   "source": [
    "from abc import ABC, abstractmethod\n",
    "\n",
    "class abstractMLBaseModel(ABC):        \n",
    "       \n",
    "    @abstractmethod\n",
    "    def __init__(self):\n",
    "        pass\n",
    "\n",
    "    @abstractmethod\n",
    "    def train(self, data):\n",
    "        pass\n",
    "\n",
    "    @abstractmethod\n",
    "    def predict(self, data):\n",
    "        pass"
   ]
  },
  {
   "cell_type": "markdown",
   "metadata": {},
   "source": [
    "# Task 2."
   ]
  },
  {
   "cell_type": "code",
   "execution_count": 2,
   "metadata": {},
   "outputs": [],
   "source": [
    "class functionality_analysis:    \n",
    "    def __init__(self):\n",
    "        pass;\n",
    "    def calculate_accuracy(self, model, x_test, y_test):\n",
    "        result = model.predict(x_test);\n",
    "        \n",
    "        test_acc = np.sum(result == y_test) / len(y_test);\n",
    "        print(f\"Accuracy of the model: {test_acc}%\")\n",
    "        \n",
    "    def calculate_confusion(self, model, x_test, y_test):\n",
    "        result = model.predict(x_test);\n",
    "        \n",
    "        print(\"Classes |TP     |FP     |FN     |TN     |\")\n",
    "        for i in model.classes:\n",
    "            \n",
    "            from_true = np.where(y_test == model.classes[i])[0]\n",
    "            from_pred = np.where(result == model.classes[i])[0]\n",
    "            \n",
    "            intersect = np.intersect1d(from_true, from_pred)\n",
    "            TP = intersect.size\n",
    "            FN = from_true.size - TP\n",
    "            FP = from_pred.size - TP\n",
    "            TN = len(result) - (TP + FN + FP)\n",
    "            \n",
    "            print(\"_________________________________________\")\n",
    "            print(f\"{model.classes[i]}\\t|{TP}\\t|{FP}\\t|{FN}\\t|{TN}\\t|\")            "
   ]
  },
  {
   "cell_type": "markdown",
   "metadata": {},
   "source": [
    "# Task 2 - extra."
   ]
  },
  {
   "cell_type": "code",
   "execution_count": 149,
   "metadata": {},
   "outputs": [],
   "source": [
    "class comprehensibility_analysis:\n",
    "    \n",
    "    def __init__(self):\n",
    "        pass;\n",
    "    \n",
    "    def plot_heatmap(self, data):\n",
    "        ax = sns.heatmap(np.sum(x_train,0))\n",
    "        \n",
    "    def dimension_reduction_pca(self, data, dimension):\n",
    "        data_shape = data.shape\n",
    "        if len(data_shape) > 2:\n",
    "            reshape_val = 1;\n",
    "            for i in range(1,len(data_shape)):\n",
    "                reshape_val = reshape_val * data_shape[i]                \n",
    "            data = data.reshape(data_shape[0],reshape_val)\n",
    "                    \n",
    "        pca = PCA(n_components=dimension, svd_solver='full')\n",
    "        pca.fit(data)\n",
    "        \n",
    "        dimension_PCAs = [];\n",
    "        for i in range(1, dimension+1):\n",
    "            dimension_PCAs.append('PC-' + str(i))\n",
    "            \n",
    "        print(f\"Explained Variance: {pca.explained_variance_}\")\n",
    "        \n",
    "        print(pd.DataFrame(pca.components_,columns=list(range(0, data.shape[1])),index = dimension_PCAs))\n",
    "                \n",
    "        "
   ]
  },
  {
   "cell_type": "markdown",
   "metadata": {},
   "source": [
    "# Task 3."
   ]
  },
  {
   "cell_type": "code",
   "execution_count": 15,
   "metadata": {},
   "outputs": [],
   "source": [
    "from tensorflow.keras.datasets import mnist\n",
    "(x_train, y_train), (x_test, y_test) = mnist.load_data();\n",
    "    \n",
    "x_test_task3 = x_test[0:100,:,:];\n",
    "y_test_task3 = y_test[0:100];\n",
    "\n",
    "x_test = x_test[100:,:,:];\n",
    "y_test = y_test[100:];\n",
    "\n",
    "x_train = x_train / 255.0;\n",
    "x_test = x_test / 255.0;\n",
    "x_test = tf.Variable(x_test);"
   ]
  },
  {
   "cell_type": "code",
   "execution_count": 16,
   "metadata": {},
   "outputs": [],
   "source": [
    "class neuralNetworkModel(abstractMLBaseModel):\n",
    "    \n",
    "    def __init__(self):\n",
    "        self.modelName = \"Neural Network with 3 layers\"\n",
    "        self.epochs = 10;\n",
    "        self.batch_size = 100;\n",
    "        self.classes = [0, 1, 2, 3, 4, 5, 6, 7, 8, 9]\n",
    "        \n",
    "        self.W1 = tf.Variable(tf.random.normal([784, 300], stddev=0.03), name='W1');\n",
    "        self.b1 = tf.Variable(tf.random.normal([300]), name='b1');\n",
    "        \n",
    "        self.W2 = tf.Variable(tf.random.normal([300, 10], stddev=0.03), name='W2');\n",
    "        self.b2 = tf.Variable(tf.random.normal([10]), name='b2');\n",
    "        self.optimizer = tf.keras.optimizers.Adam()\n",
    "    \n",
    "    def train(self, x_train, y_train, x_test, y_test):\n",
    "        total_batch = int(len(y_train) / self.batch_size);\n",
    "        for epoch in range(self.epochs):\n",
    "            avg_loss = 0\n",
    "            for i in range(total_batch):\n",
    "                batch_x, batch_y = self.get_batch(x_train, y_train)\n",
    "                # create tensors\n",
    "                batch_x = tf.Variable(batch_x)\n",
    "                batch_y = tf.Variable(batch_y)\n",
    "                # create a one hot vector\n",
    "                batch_y = tf.one_hot(batch_y, 10)\n",
    "                with tf.GradientTape() as tape:\n",
    "                    logits = self.predictInClass(batch_x)\n",
    "                    loss = self.loss_fn(logits, batch_y)\n",
    "                gradients = tape.gradient(loss, [self.W1, self.b1, self.W2, self.b2])\n",
    "                self.optimizer.apply_gradients(zip(gradients, [self.W1, self.b1, self.W2, self.b2]))\n",
    "                avg_loss += loss / total_batch\n",
    "            test_logits = self.predictInClass(x_test)\n",
    "            max_idxs = tf.argmax(test_logits, axis=1)\n",
    "            test_acc = np.sum(max_idxs.numpy() == y_test) / len(y_test)\n",
    "            print(f\"Epoch: {epoch + 1}, loss={avg_loss:.3f}, test set      accuracy={test_acc*100:.3f}%\")\n",
    "        print(\"\\nTraining complete!\")\n",
    "        \n",
    "    def predict(self, x_input):\n",
    "        # flatten the input image from 28 x 28 to 784\n",
    "        x_input = tf.reshape(x_input, (x_input.shape[0], -1))\n",
    "        x = tf.add(tf.matmul(tf.cast(x_input, tf.float32), self.W1), self.b1)\n",
    "        x = tf.nn.relu(x)\n",
    "        logits = tf.add(tf.matmul(x, self.W2), self.b2)\n",
    "        max_idxs = tf.argmax(logits, axis=1)\n",
    "        result = max_idxs.numpy()\n",
    "        return result\n",
    "    \n",
    "    def predictInClass(self, x_input):\n",
    "        # flatten the input image from 28 x 28 to 784\n",
    "        x_input = tf.reshape(x_input, (x_input.shape[0], -1))\n",
    "        x = tf.add(tf.matmul(tf.cast(x_input, tf.float32), self.W1), self.b1)\n",
    "        x = tf.nn.relu(x)\n",
    "        logits = tf.add(tf.matmul(x, self.W2), self.b2)\n",
    "        return logits\n",
    "        \n",
    "    def get_batch(self, x_data, y_data):\n",
    "        idxs = np.random.randint(0, len(y_data), self.batch_size)\n",
    "        return x_data[idxs,:,:], y_data[idxs]\n",
    "    \n",
    "    def loss_fn(self, logits, labels):\n",
    "        cross_entropy = tf.reduce_mean(tf.nn.softmax_cross_entropy_with_logits(labels=labels,\n",
    "                                                                                  logits=logits))\n",
    "        return cross_entropy"
   ]
  },
  {
   "cell_type": "code",
   "execution_count": 17,
   "metadata": {},
   "outputs": [],
   "source": [
    "model = neuralNetworkModel()"
   ]
  },
  {
   "cell_type": "code",
   "execution_count": 18,
   "metadata": {
    "scrolled": true
   },
   "outputs": [
    {
     "name": "stdout",
     "output_type": "stream",
     "text": [
      "Epoch: 1, loss=0.389, test set      accuracy=94.182%\n",
      "Epoch: 2, loss=0.162, test set      accuracy=95.939%\n",
      "Epoch: 3, loss=0.108, test set      accuracy=96.687%\n",
      "Epoch: 4, loss=0.084, test set      accuracy=97.051%\n",
      "Epoch: 5, loss=0.061, test set      accuracy=97.253%\n",
      "Epoch: 6, loss=0.050, test set      accuracy=97.495%\n",
      "Epoch: 7, loss=0.042, test set      accuracy=97.616%\n",
      "Epoch: 8, loss=0.031, test set      accuracy=97.778%\n",
      "Epoch: 9, loss=0.026, test set      accuracy=97.869%\n",
      "Epoch: 10, loss=0.022, test set      accuracy=97.798%\n",
      "\n",
      "Training complete!\n"
     ]
    }
   ],
   "source": [
    "model.train(x_train, y_train, x_test, y_test)"
   ]
  },
  {
   "cell_type": "code",
   "execution_count": 154,
   "metadata": {},
   "outputs": [],
   "source": [
    "result = model.predict(x_test)"
   ]
  },
  {
   "cell_type": "markdown",
   "metadata": {},
   "source": [
    "# Using the model for functionality analysis"
   ]
  },
  {
   "cell_type": "code",
   "execution_count": 19,
   "metadata": {},
   "outputs": [],
   "source": [
    "functionality_analysis = functional_analysis()"
   ]
  },
  {
   "cell_type": "code",
   "execution_count": 20,
   "metadata": {},
   "outputs": [
    {
     "name": "stdout",
     "output_type": "stream",
     "text": [
      "Accuracy of the model: 0.99%\n"
     ]
    }
   ],
   "source": [
    "functionality_analysis.calculate_accuracy(model,x_test_task3,y_test_task3)"
   ]
  },
  {
   "cell_type": "code",
   "execution_count": 21,
   "metadata": {
    "scrolled": false
   },
   "outputs": [
    {
     "name": "stdout",
     "output_type": "stream",
     "text": [
      "Classes |TP     |FP     |FN     |TN     |\n",
      "_________________________________________\n",
      "0\t|8\t|0\t|0\t|92\t|\n",
      "_________________________________________\n",
      "1\t|14\t|0\t|0\t|86\t|\n",
      "_________________________________________\n",
      "2\t|8\t|0\t|0\t|92\t|\n",
      "_________________________________________\n",
      "3\t|11\t|0\t|0\t|89\t|\n",
      "_________________________________________\n",
      "4\t|14\t|0\t|0\t|86\t|\n",
      "_________________________________________\n",
      "5\t|6\t|0\t|1\t|93\t|\n",
      "_________________________________________\n",
      "6\t|10\t|0\t|0\t|90\t|\n",
      "_________________________________________\n",
      "7\t|15\t|0\t|0\t|85\t|\n",
      "_________________________________________\n",
      "8\t|2\t|1\t|0\t|97\t|\n",
      "_________________________________________\n",
      "9\t|11\t|0\t|0\t|89\t|\n"
     ]
    }
   ],
   "source": [
    "functionality_analysis.calculate_confusion(model,x_test_task3,y_test_task3)"
   ]
  },
  {
   "cell_type": "markdown",
   "metadata": {},
   "source": [
    "# Using the model for comprehensibility analysis"
   ]
  },
  {
   "cell_type": "code",
   "execution_count": 150,
   "metadata": {},
   "outputs": [],
   "source": [
    "comprehensibility_analysis = comprehensibility_analysis()"
   ]
  },
  {
   "cell_type": "code",
   "execution_count": 151,
   "metadata": {},
   "outputs": [
    {
     "data": {
      "image/png": "[encoded data removed]",
      "text/plain": [
       "<Figure size 432x288 with 2 Axes>"
      ]
     },
     "metadata": {},
     "output_type": "display_data"
    }
   ],
   "source": [
    "comprehensibility_analysis.plot_heatmap(x_train)"
   ]
  },
  {
   "cell_type": "code",
   "execution_count": 152,
   "metadata": {},
   "outputs": [
    {
     "name": "stdout",
     "output_type": "stream",
     "text": [
      "Explained Variance: [5.11687301 3.74139084 3.25270845]\n",
      "               0             1             2             3             4    \\\n",
      "PC-1  5.265725e-20  4.163336e-17  5.551115e-17  0.000000e+00  1.110223e-16   \n",
      "PC-2 -1.816922e-19 -5.551115e-17 -5.551115e-17  1.665335e-16  5.551115e-17   \n",
      "PC-3 -1.638503e-20 -2.775558e-17 -9.714451e-17 -2.775558e-17  1.318390e-16   \n",
      "\n",
      "               5             6             7             8    9    ...  \\\n",
      "PC-1 -5.551115e-17  0.000000e+00  0.000000e+00  8.673617e-19  0.0  ...   \n",
      "PC-2  1.110223e-16 -5.551115e-17  0.000000e+00  6.938894e-18  0.0  ...   \n",
      "PC-3 -6.245005e-17  7.806256e-17  4.163336e-17 -0.000000e+00 -0.0  ...   \n",
      "\n",
      "           774       775       776           777           778           779  \\\n",
      "PC-1 -0.000013  0.000017  0.000006 -2.593636e-07 -4.952733e-07  1.378420e-07   \n",
      "PC-2  0.000500  0.000219  0.000109  3.548438e-05  2.127952e-05  2.223383e-06   \n",
      "PC-3 -0.000488 -0.000211 -0.000091 -3.452352e-05 -1.894267e-05 -2.255688e-06   \n",
      "\n",
      "      780  781  782  783  \n",
      "PC-1  0.0  0.0  0.0  0.0  \n",
      "PC-2  0.0  0.0  0.0  0.0  \n",
      "PC-3 -0.0 -0.0 -0.0 -0.0  \n",
      "\n",
      "[3 rows x 784 columns]\n"
     ]
    }
   ],
   "source": [
    "comprehensibility_analysis.dimension_reduction_pca(x_train, 3)"
   ]
  },
  {
   "cell_type": "markdown",
   "metadata": {},
   "source": [
    "# Extra (Puzzle)"
   ]
  },
  {
   "cell_type": "code",
   "execution_count": 155,
   "metadata": {},
   "outputs": [],
   "source": [
    "import numpy as np\n",
    "import tensorflow as tf\n",
    "from tqdm import tqdm"
   ]
  },
  {
   "cell_type": "code",
   "execution_count": null,
   "metadata": {},
   "outputs": [],
   "source": [
    "def image_smoother(\n",
    "        input_image: np.ndarray,\n",
    "        kernel_height=5,\n",
    "        kernel_width=5,\n",
    "        stride_height=1,\n",
    "        stride_width=1) -> np.ndarray:\n",
    "    \n",
    "    assert input_image.ndim == 4\n",
    "    assert input_image.shape[0] == 1 and input_image.shape[-1] == 3\n",
    "    \n",
    "    input_node = tf.placeholder(\n",
    "    dtype=tf.float32,\n",
    "    shape=input_image.shape\n",
    "    )\n",
    "    \n",
    "    # This objective is the only part you need to change.\n",
    "    # try to use as less for-loops as possible\n",
    "    kernels = input_image # this is just a placeholder\n",
    "    ...\n",
    "    mean_kernel = tf.reduce_mean(\n",
    "    kernels,\n",
    "    axis=(1, 2),\n",
    "    keepdims=True\n",
    "    )\n",
    "    objective = tf.square(input_node - mean_kernel)\n",
    "    # Please note that this objective would only be correct if\n",
    "    # (kernel_height, kernel_width) == input_image.shape[1:3]\n",
    "    # your approach must be flexible under kernel size and stride\n",
    "    gradient_node = tf.gradients(ys=objective, xs=input_node)\n",
    "    with tf.Session() as session:\n",
    "    for _ in tqdm(range(1000), desc=\"optimize image\"):\n",
    "    _gradient = session.run(\n",
    "    gradient_node,\n",
    "    feed_dict={\n",
    "    input_node: input_image\n",
    "    }\n",
    "    )\n",
    "    gradient_step = np.sign(_gradient[0]) * (1 / 255)\n",
    "    input_image = np.clip(input_image - gradient_step)\n",
    "    return input_image"
   ]
  }
 ],
 "metadata": {
  "kernelspec": {
   "display_name": "Python 3",
   "language": "python",
   "name": "python3"
  },
  "language_info": {
   "codemirror_mode": {
    "name": "ipython",
    "version": 3
   },
   "file_extension": ".py",
   "mimetype": "text/x-python",
   "name": "python",
   "nbconvert_exporter": "python",
   "pygments_lexer": "ipython3",
   "version": "3.7.9"
  }
 },
 "nbformat": 4,
 "nbformat_minor": 2
}
